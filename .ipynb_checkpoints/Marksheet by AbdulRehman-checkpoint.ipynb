{
 "cells": [
  {
   "cell_type": "markdown",
   "metadata": {},
   "source": [
    "# Marksheet"
   ]
  },
  {
   "cell_type": "code",
   "execution_count": null,
   "metadata": {},
   "outputs": [],
   "source": [
    "name = input(\"Name: \")\n",
    "eng = float(input(\"Obtained Marks in ENGLISH: \"))\n",
    "if eng > 100:\n",
    "    print(\"Marks should be between 0 and 100\")\n",
    "else:\n",
    "    maths = float(input(\"Obtained Marks in MATHS: \"))\n",
    "    if maths > 100:\n",
    "        print(\"Marks should be between 0 and 100\")\n",
    "    else:\n",
    "        urdu = float(input(\"Obtained Marks in UDRU: \"))\n",
    "        if urdu > 100:\n",
    "            print(\"Marks should be between 0 and 100\")\n",
    "        else:\n",
    "            \n",
    "            total_marks = 300\n",
    "            obt_marks = eng+maths+urdu\n",
    "            percentage = (obt_marks/total_marks)*100\n",
    "            print(\"Name :\" ,name.title(), \"Total Marks :\" ,total_marks, \", Obtained Marks :\" ,obt_marks, \"and Percentage :\" ,percentage, \"%.\")\n",
    "            if percentage >= 90:\n",
    "                print(\"GRADE = A++\")\n",
    "            elif percentage >= 80:\n",
    "                print(\"GRADE = A+\")\n",
    "            elif percentage >= 70:\n",
    "                print(\"GRADE = A\")\n",
    "            elif percentage >= 60:\n",
    "                print(\"GRADE = B\")\n",
    "            elif percentage >= 50:\n",
    "                print(\"GRADE = C\")\n",
    "            else:\n",
    "                print(\"Remarks = FAIL\")"
   ]
  },
  {
   "cell_type": "code",
   "execution_count": null,
   "metadata": {},
   "outputs": [],
   "source": []
  }
 ],
 "metadata": {
  "kernelspec": {
   "display_name": "Python 3",
   "language": "python",
   "name": "python3"
  },
  "language_info": {
   "codemirror_mode": {
    "name": "ipython",
    "version": 3
   },
   "file_extension": ".py",
   "mimetype": "text/x-python",
   "name": "python",
   "nbconvert_exporter": "python",
   "pygments_lexer": "ipython3",
   "version": "3.7.3"
  }
 },
 "nbformat": 4,
 "nbformat_minor": 2
}
