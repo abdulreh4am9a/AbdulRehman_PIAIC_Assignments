{
 "cells": [
  {
   "cell_type": "markdown",
   "metadata": {},
   "source": [
    "# Marksheet"
   ]
  },
  {
   "cell_type": "code",
   "execution_count": 11,
   "metadata": {},
   "outputs": [
    {
     "name": "stdout",
     "output_type": "stream",
     "text": [
      "Name: abdul rehman\n",
      "Obtained Marks in ENGLISH: 99\n",
      "Obtained Marks in MATHS: 98\n",
      "Obtained Marks in UDRU: 97\n",
      "Total Marks : 300 , Obtained Marks : 294.0 and Percentage : 98.0 %.\n",
      "GRADE = A++\n"
     ]
    }
   ],
   "source": [
    "name = input(\"Name: \")\n",
    "eng = float(input(\"Obtained Marks in ENGLISH: \"))\n",
    "if eng > 100:\n",
    "    print(\"Marks should be between 0 and 100\")\n",
    "else:\n",
    "    maths = float(input(\"Obtained Marks in MATHS: \"))\n",
    "    if maths > 100:\n",
    "        print(\"Marks should be between 0 and 100\")\n",
    "    else:\n",
    "        urdu = float(input(\"Obtained Marks in UDRU: \"))\n",
    "        total_marks = 300\n",
    "        obt_marks = eng+maths+urdu\n",
    "        percentage = (obt_marks/total_marks)*100\n",
    "        print(\"Total Marks :\" ,total_marks, \", Obtained Marks :\" ,obt_marks, \"and Percentage :\" ,percentage, \"%.\")\n",
    "        if percentage >= 90:\n",
    "            print(\"GRADE = A++\")\n",
    "        elif percentage >= 80:\n",
    "            print(\"GRADE = A+\")\n",
    "        elif percentage >= 70:\n",
    "            print(\"GRADE = A\")\n",
    "        elif percentage >= 60:\n",
    "            print(\"GRADE = B\")\n",
    "        elif percentage >= 50:\n",
    "            print(\"GRADE = C\")\n",
    "        else:\n",
    "            print(\"Remarks = FAIL\")"
   ]
  }
 ],
 "metadata": {
  "kernelspec": {
   "display_name": "Python 3",
   "language": "python",
   "name": "python3"
  },
  "language_info": {
   "codemirror_mode": {
    "name": "ipython",
    "version": 3
   },
   "file_extension": ".py",
   "mimetype": "text/x-python",
   "name": "python",
   "nbconvert_exporter": "python",
   "pygments_lexer": "ipython3",
   "version": "3.7.3"
  }
 },
 "nbformat": 4,
 "nbformat_minor": 2
}
