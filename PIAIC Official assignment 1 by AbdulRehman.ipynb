{
 "cells": [
  {
   "cell_type": "markdown",
   "metadata": {},
   "source": [
    "# Full Name: Abdul Rehman\n",
    "# PIAIC Roll No: AIC007879\n",
    "# Teacher Name: Sir Muhammad Ali and Sir Muhammad Hamza Khan\n",
    "# Institute Name: Saylani Welfare Head Office\n",
    "# Timing: 6:45 to 9:45"
   ]
  },
  {
   "cell_type": "markdown",
   "metadata": {},
   "source": [
    "## 1. Calculate Area of a Circle"
   ]
  },
  {
   "cell_type": "markdown",
   "metadata": {},
   "source": [
    "#### Write a Python program which accepts the radius of a circle from the user and compute the area.\n",
    "###### Program Console Sample Output 1:\n",
    "###### Input Radius: 0.5\n",
    "###### Area of Circle with radius 0.5 is 0.7853981634"
   ]
  },
  {
   "cell_type": "code",
   "execution_count": 5,
   "metadata": {},
   "outputs": [
    {
     "name": "stdout",
     "output_type": "stream",
     "text": [
      "Enter radius of circle: 0.5\n",
      "The area of a circle whose radius is 0.5, is 0.7855\n"
     ]
    }
   ],
   "source": [
    "radius = float(input(\"Enter radius of circle: \"))\n",
    "pi = 3.142\n",
    "area = pi*radius*radius\n",
    "print(\"The area of a circle whose radius is \"+str(radius)+\", is \"+str(area))"
   ]
  },
  {
   "cell_type": "code",
   "execution_count": 6,
   "metadata": {},
   "outputs": [
    {
     "name": "stdout",
     "output_type": "stream",
     "text": [
      "Enter radius of circle: 1\n",
      "The area of a circle whose radius is 1.0, is 3.142\n"
     ]
    }
   ],
   "source": [
    "radius = float(input(\"Enter radius of circle: \"))\n",
    "pi = 3.142\n",
    "area = pi*radius*radius\n",
    "print(\"The area of a circle whose radius is \"+str(radius)+\", is \"+str(area))"
   ]
  },
  {
   "cell_type": "code",
   "execution_count": 7,
   "metadata": {},
   "outputs": [
    {
     "name": "stdout",
     "output_type": "stream",
     "text": [
      "Enter radius of circle: 1.4\n",
      "The area of a circle whose radius is 1.4, is 6.158319999999999\n"
     ]
    }
   ],
   "source": [
    "radius = float(input(\"Enter radius of circle: \"))\n",
    "pi = 3.142\n",
    "area = pi*radius*radius\n",
    "print(\"The area of a circle whose radius is \"+str(radius)+\", is \"+str(area))"
   ]
  },
  {
   "cell_type": "markdown",
   "metadata": {},
   "source": [
    "## 2. Check Number either positive, negative or zero"
   ]
  },
  {
   "cell_type": "markdown",
   "metadata": {},
   "source": [
    "#### Write a Python program to check if a number is positive, negative or zero\n",
    "###### Program Console Sample Output 1:\n",
    "###### Enter Number: -1\n",
    "##### Negative Number Entered\n",
    "###### Program Console Sample Output 2:\n",
    "##### Integer: 3\n",
    "##### Positive Number Entered\n",
    "###### Program Console Sample Output 3:\n",
    "##### Integer: 0\n",
    "###### Zero Entered"
   ]
  },
  {
   "cell_type": "code",
   "execution_count": 11,
   "metadata": {},
   "outputs": [
    {
     "name": "stdout",
     "output_type": "stream",
     "text": [
      "Enter a number: 0\n",
      "Zero Entered!\n"
     ]
    }
   ],
   "source": [
    "number = float(input(\"Enter a number: \"))\n",
    "if number == 0:\n",
    "    print(\"Zero Entered!\")\n",
    "elif number > 0:\n",
    "    print(\"Positive Number Entered\")\n",
    "else:\n",
    "    print(\"Negative Number Entered\")"
   ]
  },
  {
   "cell_type": "code",
   "execution_count": 12,
   "metadata": {},
   "outputs": [
    {
     "name": "stdout",
     "output_type": "stream",
     "text": [
      "Enter a number: 5\n",
      "Positive Number Entered\n"
     ]
    }
   ],
   "source": [
    "number = float(input(\"Enter a number: \"))\n",
    "if number == 0:\n",
    "    print(\"Zero Entered!\")\n",
    "elif number > 0:\n",
    "    print(\"Positive Number Entered\")\n",
    "else:\n",
    "    print(\"Negative Number Entered\")"
   ]
  },
  {
   "cell_type": "code",
   "execution_count": 13,
   "metadata": {},
   "outputs": [
    {
     "name": "stdout",
     "output_type": "stream",
     "text": [
      "Enter a number: -9\n",
      "Negative Number Entered\n"
     ]
    }
   ],
   "source": [
    "number = float(input(\"Enter a number: \"))\n",
    "if number == 0:\n",
    "    print(\"Zero Entered!\")\n",
    "elif number > 0:\n",
    "    print(\"Positive Number Entered\")\n",
    "else:\n",
    "    print(\"Negative Number Entered\")"
   ]
  },
  {
   "cell_type": "code",
   "execution_count": 14,
   "metadata": {},
   "outputs": [
    {
     "name": "stdout",
     "output_type": "stream",
     "text": [
      "Enter a number: 0.5\n",
      "Positive Number Entered\n"
     ]
    }
   ],
   "source": [
    "number = float(input(\"Enter a number: \"))\n",
    "if number == 0:\n",
    "    print(\"Zero Entered!\")\n",
    "elif number > 0:\n",
    "    print(\"Positive Number Entered\")\n",
    "else:\n",
    "    print(\"Negative Number Entered\")"
   ]
  },
  {
   "cell_type": "markdown",
   "metadata": {},
   "source": [
    "## 3. Divisibility Check of two numbers"
   ]
  },
  {
   "cell_type": "markdown",
   "metadata": {},
   "source": [
    "#### Write a Python program to check whether a number is completely divisible by another number. Accept two integer values form the user\n",
    "##### Program Console Sample Output 1:\n",
    "###### Enter numerator: 4\n",
    "###### Enter Denominator: 2\n",
    "##### Number 4 is Completely divisible by 2\n",
    "###### Program Console Sample Output 2:\n",
    "##### Enter numerator: 7\n",
    "\n",
    "##### Enter Denominator: 4\n",
    "###### Number 7 is not Completely divisible by 4"
   ]
  },
  {
   "cell_type": "code",
   "execution_count": 21,
   "metadata": {},
   "outputs": [
    {
     "name": "stdout",
     "output_type": "stream",
     "text": [
      "Enter Numerator : 4\n",
      "Enter Denominator : 2\n",
      "Number 4 is completely divisible by 2\n"
     ]
    }
   ],
   "source": [
    "numerator = int(input(\"Enter Numerator : \"))\n",
    "denominator = int(input(\"Enter Denominator : \"))\n",
    "\n",
    "if numerator % denominator == 0:\n",
    "    print(\"Number \"+str(numerator)+\" is completely divisible by \"+str(denominator))\n",
    "else:\n",
    "    print(\"Number \"+str(numerator)+\" is not completely divisible by \"+str(denominator))"
   ]
  },
  {
   "cell_type": "code",
   "execution_count": 24,
   "metadata": {},
   "outputs": [
    {
     "name": "stdout",
     "output_type": "stream",
     "text": [
      "Enter Numerator : 3\n",
      "Enter Denominator : 2\n",
      "Number 3 is not completely divisible by 2\n"
     ]
    }
   ],
   "source": [
    "numerator = int(input(\"Enter Numerator : \"))\n",
    "denominator = int(input(\"Enter Denominator : \"))\n",
    "\n",
    "if numerator % denominator == 0:\n",
    "    print(\"Number \"+str(numerator)+\" is completely divisible by \"+str(denominator))\n",
    "else:\n",
    "    print(\"Number \"+str(numerator)+\" is not completely divisible by \"+str(denominator))"
   ]
  },
  {
   "cell_type": "code",
   "execution_count": 25,
   "metadata": {},
   "outputs": [
    {
     "name": "stdout",
     "output_type": "stream",
     "text": [
      "Enter Numerator : 25\n",
      "Enter Denominator : 5\n",
      "Number 25 is completely divisible by 5\n"
     ]
    }
   ],
   "source": [
    "numerator = int(input(\"Enter Numerator : \"))\n",
    "denominator = int(input(\"Enter Denominator : \"))\n",
    "\n",
    "if numerator % denominator == 0:\n",
    "    print(\"Number \"+str(numerator)+\" is completely divisible by \"+str(denominator))\n",
    "else:\n",
    "    print(\"Number \"+str(numerator)+\" is not completely divisible by \"+str(denominator))"
   ]
  },
  {
   "cell_type": "code",
   "execution_count": 26,
   "metadata": {},
   "outputs": [
    {
     "name": "stdout",
     "output_type": "stream",
     "text": [
      "Enter Numerator : 9\n",
      "Enter Denominator : 3\n",
      "Number 9 is completely divisible by 3\n"
     ]
    }
   ],
   "source": [
    "numerator = int(input(\"Enter Numerator : \"))\n",
    "denominator = int(input(\"Enter Denominator : \"))\n",
    "\n",
    "if numerator % denominator == 0:\n",
    "    print(\"Number \"+str(numerator)+\" is completely divisible by \"+str(denominator))\n",
    "else:\n",
    "    print(\"Number \"+str(numerator)+\" is not completely divisible by \"+str(denominator))"
   ]
  },
  {
   "cell_type": "code",
   "execution_count": 27,
   "metadata": {},
   "outputs": [
    {
     "name": "stdout",
     "output_type": "stream",
     "text": [
      "Enter Numerator : 16\n",
      "Enter Denominator : 4\n",
      "Number 16 is completely divisible by 4\n"
     ]
    }
   ],
   "source": [
    "numerator = int(input(\"Enter Numerator : \"))\n",
    "denominator = int(input(\"Enter Denominator : \"))\n",
    "\n",
    "if numerator % denominator == 0:\n",
    "    print(\"Number \"+str(numerator)+\" is completely divisible by \"+str(denominator))\n",
    "else:\n",
    "    print(\"Number \"+str(numerator)+\" is not completely divisible by \"+str(denominator))"
   ]
  },
  {
   "cell_type": "code",
   "execution_count": 28,
   "metadata": {},
   "outputs": [
    {
     "name": "stdout",
     "output_type": "stream",
     "text": [
      "Enter Numerator : 5\n",
      "Enter Denominator : 3\n",
      "Number 5 is not completely divisible by 3\n"
     ]
    }
   ],
   "source": [
    "numerator = int(input(\"Enter Numerator : \"))\n",
    "denominator = int(input(\"Enter Denominator : \"))\n",
    "\n",
    "if numerator % denominator == 0:\n",
    "    print(\"Number \"+str(numerator)+\" is completely divisible by \"+str(denominator))\n",
    "else:\n",
    "    print(\"Number \"+str(numerator)+\" is not completely divisible by \"+str(denominator))"
   ]
  },
  {
   "cell_type": "markdown",
   "metadata": {},
   "source": [
    "## 4. Calculate Volume of a sphere"
   ]
  },
  {
   "cell_type": "markdown",
   "metadata": {},
   "source": [
    "##### Write a Python program to get the volume of a sphere, please take the radius as input from user"
   ]
  },
  {
   "cell_type": "markdown",
   "metadata": {},
   "source": [
    "##### Program Console Output:\n",
    "##### Enter Radius of Sphere: 1\n",
    "###### Volume of the Sphere with Radius 1 is 4.18"
   ]
  },
  {
   "cell_type": "code",
   "execution_count": 29,
   "metadata": {},
   "outputs": [
    {
     "name": "stdout",
     "output_type": "stream",
     "text": [
      "Enter radius of sphere: 1\n",
      "The volume of a sphere whose radius is 1.0, is 4.189333333333333\n"
     ]
    }
   ],
   "source": [
    "radius = float(input(\"Enter radius of sphere: \"))\n",
    "volume = (4/3) * 3.142 * (radius)**3\n",
    "print(\"The volume of a sphere whose radius is \"+str(radius)+\", is \"+str(volume))"
   ]
  },
  {
   "cell_type": "code",
   "execution_count": 30,
   "metadata": {},
   "outputs": [
    {
     "name": "stdout",
     "output_type": "stream",
     "text": [
      "Enter radius of sphere: 2\n",
      "The volume of a sphere whose radius is 2.0, is 33.51466666666666\n"
     ]
    }
   ],
   "source": [
    "radius = float(input(\"Enter radius of sphere: \"))\n",
    "volume = (4/3) * 3.142 * (radius)**3\n",
    "print(\"The volume of a sphere whose radius is \"+str(radius)+\", is \"+str(volume))"
   ]
  },
  {
   "cell_type": "code",
   "execution_count": 31,
   "metadata": {},
   "outputs": [
    {
     "name": "stdout",
     "output_type": "stream",
     "text": [
      "Enter radius of sphere: 3\n",
      "The volume of a sphere whose radius is 3.0, is 113.112\n"
     ]
    }
   ],
   "source": [
    "radius = float(input(\"Enter radius of sphere: \"))\n",
    "volume = (4/3) * 3.142 * (radius)**3\n",
    "print(\"The volume of a sphere whose radius is \"+str(radius)+\", is \"+str(volume))"
   ]
  },
  {
   "cell_type": "code",
   "execution_count": 32,
   "metadata": {},
   "outputs": [
    {
     "name": "stdout",
     "output_type": "stream",
     "text": [
      "Enter radius of sphere: 5\n",
      "The volume of a sphere whose radius is 5.0, is 523.6666666666666\n"
     ]
    }
   ],
   "source": [
    "radius = float(input(\"Enter radius of sphere: \"))\n",
    "volume = (4/3) * 3.142 * (radius)**3\n",
    "print(\"The volume of a sphere whose radius is \"+str(radius)+\", is \"+str(volume))"
   ]
  },
  {
   "cell_type": "code",
   "execution_count": 1,
   "metadata": {},
   "outputs": [
    {
     "name": "stdout",
     "output_type": "stream",
     "text": [
      "Enter radius of sphere: 4\n",
      "The volume of a sphere whose radius is 4.0, is 268.1173333333333\n"
     ]
    }
   ],
   "source": [
    "radius = float(input(\"Enter radius of sphere: \"))\n",
    "volume = (4/3) * 3.142 * (radius)**3\n",
    "print(\"The volume of a sphere whose radius is \"+str(radius)+\", is \"+str(volume))"
   ]
  },
  {
   "cell_type": "markdown",
   "metadata": {},
   "source": [
    "## 5. Copy string n times\n",
    "#### Write a Python program to get a string which is n (non-negative integer) copies of a given string.\n",
    "##### Program Console Output:\n",
    "##### Enter String: Hi\n",
    "###### How many copies of String you need: 4\n",
    "###### 4 Copies of Hi are HiHiHiHi"
   ]
  },
  {
   "cell_type": "code",
   "execution_count": 3,
   "metadata": {},
   "outputs": [
    {
     "name": "stdout",
     "output_type": "stream",
     "text": [
      "Enter string: hi\n",
      "How many copies of sting you need: 4\n",
      "4 copies of hi are hihihihi.\n"
     ]
    }
   ],
   "source": [
    "string = input(\"Enter string: \")\n",
    "copies = int(input(\"How many copies of sting you need: \"))\n",
    "result = string * copies\n",
    "print(str(copies)+\" copies of \"+string+\" are \"+result+\".\")"
   ]
  },
  {
   "cell_type": "code",
   "execution_count": 4,
   "metadata": {},
   "outputs": [
    {
     "name": "stdout",
     "output_type": "stream",
     "text": [
      "Enter string: hello\n",
      "How many copies of sting you need: 8\n",
      "8 copies of hello are hellohellohellohellohellohellohellohello.\n"
     ]
    }
   ],
   "source": [
    "string = input(\"Enter string: \")\n",
    "copies = int(input(\"How many copies of sting you need: \"))\n",
    "result = string * copies\n",
    "print(str(copies)+\" copies of \"+string+\" are \"+result+\".\")"
   ]
  },
  {
   "cell_type": "markdown",
   "metadata": {},
   "source": [
    "## 6. Check if number is Even or Odd\n",
    "### Write a Python program to find whether a given number (accept from the user) is even or odd, print out an appropriate message to the user\n",
    "#### Program Console Output 1:\n",
    "##### Enter Number: 4\n",
    "###### 4 is Even\n",
    "#### Program Console Output 2:\n",
    "##### Enter Number: 9\n",
    "###### 9 is Odd"
   ]
  },
  {
   "cell_type": "code",
   "execution_count": 57,
   "metadata": {},
   "outputs": [
    {
     "name": "stdout",
     "output_type": "stream",
     "text": [
      "Enter a Number: 5\n",
      "This is an odd Number.\n"
     ]
    }
   ],
   "source": [
    "num = float(input(\"Enter a Number: \"))\n",
    "ans = num % 2\n",
    "if ans <= 0:\n",
    "    print(\"This is an even Number.\")\n",
    "else:\n",
    "    print(\"This is an odd Number.\")"
   ]
  },
  {
   "cell_type": "code",
   "execution_count": 62,
   "metadata": {},
   "outputs": [
    {
     "name": "stdout",
     "output_type": "stream",
     "text": [
      "Enter a Number: 2\n",
      "This is an even Number.\n"
     ]
    }
   ],
   "source": [
    "num = float(input(\"Enter a Number: \"))\n",
    "ans = num % 2\n",
    "if ans <= 0:\n",
    "    print(\"This is an even Number.\")\n",
    "else:\n",
    "    print(\"This is an odd Number.\")"
   ]
  },
  {
   "cell_type": "markdown",
   "metadata": {},
   "source": [
    "## 7. Vowel Tester\n",
    "### Write a Python program to test whether a passed letter is a vowel or not\n",
    "#### Program Console Output 1:\n",
    "##### Enter a character: A\n",
    "###### Letter A is Vowel\n",
    "#### Program Console Output 2:\n",
    "##### Enter a character: e\n",
    "###### Letter e is Vowel\n",
    "#### Program Console Output 2:\n",
    "##### Enter a character: N\n",
    "###### Letter N is not Vowel"
   ]
  },
  {
   "cell_type": "code",
   "execution_count": 78,
   "metadata": {},
   "outputs": [
    {
     "name": "stdout",
     "output_type": "stream",
     "text": [
      "Enter a letter: y\n",
      "Letter y is not a vowel.\n"
     ]
    }
   ],
   "source": [
    "user_input = input(\"Enter a letter: \")\n",
    "if(user_input == \"A\" or user_input == \"E\"\n",
    "   or \n",
    "   user_input == \"I\" or user_input == \"O\"\n",
    "   or\n",
    "   user_input == \"U\" or user_input == \"a\"\n",
    "   or\n",
    "   user_input == \"e\" or user_input == \"i\"\n",
    "   or\n",
    "   user_input == \"o\" or user_input == \"u\"):\n",
    "    print(\"Letter \"+user_input+\" is a vowel.\")\n",
    "else:\n",
    "    print(\"Letter \"+user_input+\" is not a vowel.\")"
   ]
  },
  {
   "cell_type": "code",
   "execution_count": 79,
   "metadata": {},
   "outputs": [
    {
     "name": "stdout",
     "output_type": "stream",
     "text": [
      "Enter a letter: Y\n",
      "Letter Y is not a vowel.\n"
     ]
    }
   ],
   "source": [
    "user_input = input(\"Enter a letter: \")\n",
    "if(user_input == \"A\" or user_input == \"E\"\n",
    "   or \n",
    "   user_input == \"I\" or user_input == \"O\"\n",
    "   or\n",
    "   user_input == \"U\" or user_input == \"a\"\n",
    "   or\n",
    "   user_input == \"e\" or user_input == \"i\"\n",
    "   or\n",
    "   user_input == \"o\" or user_input == \"u\"):\n",
    "    print(\"Letter \"+user_input+\" is a vowel.\")\n",
    "else:\n",
    "    print(\"Letter \"+user_input+\" is not a vowel.\")"
   ]
  },
  {
   "cell_type": "code",
   "execution_count": 77,
   "metadata": {},
   "outputs": [
    {
     "name": "stdout",
     "output_type": "stream",
     "text": [
      "Enter a letter: A\n",
      "Letter A is a vowel.\n"
     ]
    }
   ],
   "source": [
    "user_input = input(\"Enter a letter: \")\n",
    "if(user_input == \"A\" or user_input == \"E\"\n",
    "   or \n",
    "   user_input == \"I\" or user_input == \"O\"\n",
    "   or\n",
    "   user_input == \"U\" or user_input == \"a\"\n",
    "   or\n",
    "   user_input == \"e\" or user_input == \"i\"\n",
    "   or\n",
    "   user_input == \"o\" or user_input == \"u\"):\n",
    "    print(\"Letter \"+user_input+\" is a vowel.\")\n",
    "else:\n",
    "    print(\"Letter \"+user_input+\" is not a vowel.\")"
   ]
  },
  {
   "cell_type": "code",
   "execution_count": 76,
   "metadata": {},
   "outputs": [
    {
     "name": "stdout",
     "output_type": "stream",
     "text": [
      "Enter a letter: a\n",
      "Letter a is a vowel.\n"
     ]
    }
   ],
   "source": [
    "user_input = input(\"Enter a letter: \")\n",
    "if(user_input == \"A\" or user_input == \"E\"\n",
    "   or \n",
    "   user_input == \"I\" or user_input == \"O\"\n",
    "   or\n",
    "   user_input == \"U\" or user_input == \"a\"\n",
    "   or\n",
    "   user_input == \"e\" or user_input == \"i\"\n",
    "   or\n",
    "   user_input == \"o\" or user_input == \"u\"):\n",
    "    print(\"Letter \"+user_input+\" is a vowel.\")\n",
    "else:\n",
    "    print(\"Letter \"+user_input+\" is not a vowel.\")"
   ]
  },
  {
   "cell_type": "markdown",
   "metadata": {},
   "source": [
    "## 8. Triangle area\n",
    "### Write a Python program that will accept the base and height of a triangle and compute the area\n",
    "###### Reference:\n",
    "https://www.mathgoodies.com/lessons/vol1/area_triangle"
   ]
  },
  {
   "cell_type": "code",
   "execution_count": 5,
   "metadata": {},
   "outputs": [
    {
     "name": "stdout",
     "output_type": "stream",
     "text": [
      "Enter Base of Triangle : 2\n",
      "Enter Hypotenuse of Triangle : 4\n",
      "Area of triangle is: 4.0\n"
     ]
    }
   ],
   "source": [
    "base = float(input(\"Enter Base of Triangle : \"))\n",
    "hyp = float(input(\"Enter Hypotenuse of Triangle : \"))\n",
    "area = 0.5 * base * hyp\n",
    "print(\"Area of triangle is: \"+str(area))"
   ]
  },
  {
   "cell_type": "code",
   "execution_count": 6,
   "metadata": {},
   "outputs": [
    {
     "name": "stdout",
     "output_type": "stream",
     "text": [
      "Enter Base of Triangle : 543\n",
      "Enter Hypotenuse of Triangle : 999\n",
      "Area of triangle is: 271228.5\n"
     ]
    }
   ],
   "source": [
    "base = float(input(\"Enter Base of Triangle : \"))\n",
    "hyp = float(input(\"Enter Hypotenuse of Triangle : \"))\n",
    "area = 0.5 * base * hyp\n",
    "print(\"Area of triangle is: \"+str(area))"
   ]
  },
  {
   "cell_type": "markdown",
   "metadata": {},
   "source": [
    "## 9. Calculate Interest\n",
    "### Write a Python program to compute the future value of a specified principal amount, rate of interest, and a number of years\n",
    "#### Program Console Sample 1:\n",
    "##### Please enter principal amount: 10000\n",
    "###### Please Enter Rate of interest in %: 0.1\n",
    "###### Enter number of years for investment: 5\n",
    "###### After 5 years your principal amount 10000 over an interest rate of 0.1 % will be 16105.1"
   ]
  },
  {
   "cell_type": "code",
   "execution_count": 2,
   "metadata": {},
   "outputs": [
    {
     "name": "stdout",
     "output_type": "stream",
     "text": [
      "Please enter principal amount : 10000\n",
      "Please enter Rate of interest in % : 0.1\n",
      "Enter number of years for investment : 5\n",
      "After 5 years your principal amount 10000.0 over an interest rate of 0.1  will be 16105.100000000006.\n"
     ]
    }
   ],
   "source": [
    "amount = float(input(\"Please enter principal amount : \"))\n",
    "rate = float(input(\"Please enter Rate of interest in % : \"))\n",
    "year = int(input(\"Enter number of years for investment : \"))\n",
    "\n",
    "interest =  amount * ( 1 + rate )** year\n",
    "\n",
    "print(\"After \"+str(year)+\" years your principal amount \"+str(amount)+\" over an interest rate of \"+str(rate)+\"  will be \"+str(interest)+\".\")"
   ]
  },
  {
   "cell_type": "markdown",
   "metadata": {},
   "source": [
    "## 10. Euclidean distance\n",
    "### write a Python program to compute the distance between the points (x1, y1) and (x2, y2).\n",
    "#### Program Console Sample 1:\n",
    "###### Enter Co-ordinate for x1: 2\n",
    "###### Enter Co-ordinate for x2: 4\n",
    "###### Enter Co-ordinate for y1: 4\n",
    "###### Enter Co-ordinate for y2: 4\n",
    "###### Distance between points (2, 4) and (4, 4) is 2"
   ]
  },
  {
   "cell_type": "markdown",
   "metadata": {},
   "source": [
    "###### Reference:\n",
    "https://en.wikipedia.org/wiki/Euclidean_distance"
   ]
  },
  {
   "cell_type": "code",
   "execution_count": 3,
   "metadata": {},
   "outputs": [
    {
     "name": "stdout",
     "output_type": "stream",
     "text": [
      "Enter Co-ordinate for x1 : 4\n",
      "Enter Co-ordinate for x2 : 2\n",
      "Enter Co-ordinate for y1 : 5\n",
      "Enter Co-ordinate for y2 : 9\n",
      "Distance between points (4,5) and (2,9) is 4 \n"
     ]
    }
   ],
   "source": [
    "import math\n",
    "x1 = int(input(\"Enter Co-ordinate for x1 : \"))\n",
    "x2 = int(input(\"Enter Co-ordinate for x2 : \"))\n",
    "y1 = int(input(\"Enter Co-ordinate for y1 : \"))\n",
    "y2 = int(input(\"Enter Co-ordinate for y2 : \"))\n",
    "\n",
    "dist = ( (x2 - x1)**2 ) + ( (y2 - y1)**2 )\n",
    "dist = math.sqrt(dist)\n",
    "\n",
    "print(\"Distance between points (%d,%d) and (%d,%d) is %d \" %(x1,y1,x2,y2,dist))"
   ]
  },
  {
   "cell_type": "markdown",
   "metadata": {},
   "source": [
    "## 11. Feet to Centimeter Converter\n",
    "### Write a Python program to convert height in feet to centimetres.\n",
    "##### Program Console Sample 1:\n",
    "###### Enter Height in Feet: 5\n",
    "###### There are 152.4 Cm in 5 ft\n",
    "###### Reference:\n",
    "https://www.rapidtables.com/convert/length/feet-to-cm.html"
   ]
  },
  {
   "cell_type": "code",
   "execution_count": 4,
   "metadata": {},
   "outputs": [
    {
     "name": "stdout",
     "output_type": "stream",
     "text": [
      "Enter Height in Feet : 5\n",
      "There are 152.4 Cm in 5.0 ft.\n"
     ]
    }
   ],
   "source": [
    "feet = float(input(\"Enter Height in Feet : \"))\n",
    "cent = feet * 30.48\n",
    "print(\"There are \"+str(cent)+\" Cm in \"+str(feet)+\" ft.\")"
   ]
  },
  {
   "cell_type": "markdown",
   "metadata": {},
   "source": [
    "## 12. BMI Calculator\n",
    "### Write a Python program to calculate body mass index\n",
    "##### Program Console Sample 1:\n",
    "###### Enter Height in Cm: 180\n",
    "###### Enter Weight in Kg: 75\n",
    "###### Your BMI is 23.15"
   ]
  },
  {
   "cell_type": "code",
   "execution_count": 5,
   "metadata": {},
   "outputs": [
    {
     "name": "stdout",
     "output_type": "stream",
     "text": [
      "Enter Height in Cm : 180\n",
      "Enter Weight in Kg : 75\n",
      "Your BMI is 23.148148148148145.\n"
     ]
    }
   ],
   "source": [
    "height = float(input(\"Enter Height in Cm : \"))\n",
    "weight = float(input(\"Enter Weight in Kg : \"))\n",
    "height /= 100\n",
    "\n",
    "bmi = weight / (height)**2\n",
    "print(\"Your BMI is \"+str(bmi)+\".\")"
   ]
  },
  {
   "cell_type": "markdown",
   "metadata": {},
   "source": [
    "## 13. Sum of n Positive Integers\n",
    "### Write a python program to sum of the first n positive integers\n",
    "#### Program Console Sample 1:\n",
    "###### Enter value of n: 5\n",
    "###### Sum of n Positive integers till 5 is 15"
   ]
  },
  {
   "cell_type": "code",
   "execution_count": 6,
   "metadata": {},
   "outputs": [
    {
     "name": "stdout",
     "output_type": "stream",
     "text": [
      "Enter value of n : 5\n",
      "Sum of n positive integers till 5 is 15.0.\n"
     ]
    }
   ],
   "source": [
    "n = int(input(\"Enter value of n : \"))\n",
    "sum_of_n = (n * (n + 1)) /2\n",
    "print(\"Sum of n positive integers till \"+str(n)+\" is \"+str(sum_of_n)+\".\")"
   ]
  },
  {
   "cell_type": "markdown",
   "metadata": {},
   "source": [
    "## 14. Digits Sum of a Number\n",
    "### Write a Python program to calculate the sum of the digits in an integer\n",
    "#### Program Console Sample 1:\n",
    "##### Enter a number: 15\n",
    "###### Sum of 1 + 5 is 6\n",
    "#### Program Console Sample 2:\n",
    "##### Enter a number: 1234\n",
    "###### Sum of 1 + 2 + 3 + 4 is 10"
   ]
  },
  {
   "cell_type": "code",
   "execution_count": 11,
   "metadata": {},
   "outputs": [
    {
     "name": "stdout",
     "output_type": "stream",
     "text": [
      "Enter you four number here : 1234\n",
      "The sum of digits 1234 in the number is 10\n"
     ]
    }
   ],
   "source": [
    "num = int(input(\"Enter you four number here : \"))\n",
    "num1 = num // 1000\n",
    "num2 = (num - num1*1000)//100\n",
    "num3 = (num - num1*1000 - num2*100)//10\n",
    "num4 = num - num1*1000 - num2*100 - num3*10\n",
    "\n",
    "print(\"The sum of digits \"+str(num)+\" in the number is\", num1+num2+num3+num4)"
   ]
  },
  {
   "cell_type": "code",
   "execution_count": 13,
   "metadata": {},
   "outputs": [
    {
     "name": "stdout",
     "output_type": "stream",
     "text": [
      "Enter you four number here : 4321\n",
      "The sum of digits 4321 in the number is 10\n"
     ]
    }
   ],
   "source": [
    "num = int(input(\"Enter you four number here : \"))\n",
    "num1 = num // 1000\n",
    "num2 = (num - num1*1000)//100\n",
    "num3 = (num - num1*1000 - num2*100)//10\n",
    "num4 = num - num1*1000 - num2*100 - num3*10\n",
    "\n",
    "print(\"The sum of digits \"+str(num)+\" in the number is\", num1+num2+num3+num4)"
   ]
  },
  {
   "cell_type": "code",
   "execution_count": 14,
   "metadata": {},
   "outputs": [
    {
     "name": "stdout",
     "output_type": "stream",
     "text": [
      "Enter you four number here : 54321\n",
      "The sum of digits 54321 in the number is 60\n"
     ]
    }
   ],
   "source": [
    "num = int(input(\"Enter you four number here : \"))\n",
    "num1 = num // 1000\n",
    "num2 = (num - num1*1000)//100\n",
    "num3 = (num - num1*1000 - num2*100)//10\n",
    "num4 = num - num1*1000 - num2*100 - num3*10\n",
    "\n",
    "print(\"The sum of digits \"+str(num)+\" in the number is\", num1+num2+num3+num4)"
   ]
  }
 ],
 "metadata": {
  "kernelspec": {
   "display_name": "Python 3",
   "language": "python",
   "name": "python3"
  },
  "language_info": {
   "codemirror_mode": {
    "name": "ipython",
    "version": 3
   },
   "file_extension": ".py",
   "mimetype": "text/x-python",
   "name": "python",
   "nbconvert_exporter": "python",
   "pygments_lexer": "ipython3",
   "version": "3.7.3"
  }
 },
 "nbformat": 4,
 "nbformat_minor": 2
}
